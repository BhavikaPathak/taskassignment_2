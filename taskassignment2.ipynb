{
 "cells": [
  {
   "cell_type": "code",
   "execution_count": 5,
   "id": "f829b187-9404-4ad2-9abd-a8673c24ce32",
   "metadata": {},
   "outputs": [
    {
     "name": "stdin",
     "output_type": "stream",
     "text": [
      "create password 44@@SSSsss\n"
     ]
    },
    {
     "name": "stdout",
     "output_type": "stream",
     "text": [
      "Password is valid go ahead\n"
     ]
    }
   ],
   "source": [
    "#                             ANSWER 1 \n",
    "def password_create(password):\n",
    "\t\n",
    "\tSpecialSymbol =['$', '@', '#', '%','*','!','&']\n",
    "\tval = True\n",
    "\t\n",
    "\tif len(password) < 10:\n",
    "\t\tprint('length should be at least 10')\n",
    "\t\tval = False\n",
    "\t\t\n",
    "\tif len(password) > 15:\n",
    "\t\tprint('length should be not be greater than 15')\n",
    "\t\tval = False\n",
    "\t\t\n",
    "\tif not any(char.isdigit() for char in password):\n",
    "\t\tprint('Password should have at least one number')\n",
    "\t\tval = False\n",
    "\t\t\n",
    "\tif not any(char.isupper() for char in password):\n",
    "\t\tprint('Password should have at least two uppercase letter')\n",
    "\t\tval = False\n",
    "\t\t\n",
    "\tif not any(char.islower() for char in password):\n",
    "\t\tprint('Password should have at least two lowercase letter')\n",
    "\t\tval = False\n",
    "\t\t\n",
    "\tif not any(char in SpecialSymbol for char in password):\n",
    "\t\tprint('Password should have at least three of the symbols $@#')\n",
    "\t\tval = False\n",
    "\tif val:\n",
    "\t\treturn val\n",
    "\n",
    "\n",
    "def main():\n",
    "\tpassword = input(\"create password\")\n",
    "\t\n",
    "\tif (password_create(password)):\n",
    "\t\tprint(\"Password is valid go ahead\")\n",
    "\telse:\n",
    "\t\tprint(\"Invalid Password try again!!\")\n",
    "\t\t\n",
    "\t\n",
    "if __name__ == '__main__':\n",
    "\tmain()\n"
   ]
  },
  {
   "cell_type": "code",
   "execution_count": 1,
   "id": "af6b0056-8741-4a72-8459-7c84381b70a1",
   "metadata": {},
   "outputs": [
    {
     "name": "stdout",
     "output_type": "stream",
     "text": [
      "By Using Filter function check the string starts with a particular letter\n"
     ]
    },
    {
     "name": "stdin",
     "output_type": "stream",
     "text": [
      "enter your string I am a programmer\n"
     ]
    },
    {
     "name": "stdout",
     "output_type": "stream",
     "text": [
      "Is string starts with a particular letter - YES  ['I'] I am a programmer\n"
     ]
    }
   ],
   "source": [
    "#                         ANSWER 2 (A)\n",
    "print(\"By Using Filter function check the string starts with a particular letter\")\n",
    "letter = 'I'\n",
    "def func(letter):\n",
    "    return letter.isstartswith()\n",
    "input_string = input(\"enter your string\")\n",
    "particular_letter = list(filter(lambda x: x.startswith(letter),input_string))\n",
    "if particular_letter:\n",
    "    print(\"Is string starts with a particular letter - YES \",particular_letter,input_string )\n",
    "else :\n",
    "     print(\"Is string starts with particular letter - NO\")"
   ]
  },
  {
   "cell_type": "code",
   "execution_count": 2,
   "id": "71607e14-4ad8-445b-ab25-7755e415861c",
   "metadata": {},
   "outputs": [
    {
     "name": "stdout",
     "output_type": "stream",
     "text": [
      "By Using Map function check the string is numeric\n"
     ]
    },
    {
     "name": "stdin",
     "output_type": "stream",
     "text": [
      "enter your string 888\n"
     ]
    },
    {
     "name": "stdout",
     "output_type": "stream",
     "text": [
      "Is the string is numeric --  True\n"
     ]
    }
   ],
   "source": [
    "#                         ANSWER 2 (B)\n",
    "print(\"By Using Map function check the string is numeric\")\n",
    "def func(num):\n",
    "     return num.isnumeric() \n",
    "input_string = input(\"enter your string\")\n",
    "contains_number = all( list(map(func, input_string)))\n",
    "print(\"Is the string is numeric -- \", contains_number)"
   ]
  },
  {
   "cell_type": "code",
   "execution_count": 3,
   "id": "23f49707-6922-43db-bfb4-5d8a1026cf56",
   "metadata": {},
   "outputs": [
    {
     "name": "stdout",
     "output_type": "stream",
     "text": [
      "B y Using Lambda functioN Sorting a list of tuples\n",
      "[('orange', 80), ('mango', 99), ('grapes', 1000)]\n"
     ]
    }
   ],
   "source": [
    "#                         ANSWER 2 (C)\n",
    "print(\"B y Using Lambda functioN Sorting a list of tuples\")\n",
    "def Sort_Tuple(fruit):\n",
    "    fruit.sort(key = lambda x: x[1])\n",
    "    return fruit\n",
    "fruit_quantity=[(\"mango\",99),(\"orange\",80), (\"grapes\", 1000)]\n",
    "print(Sort_Tuple(fruit_quantity))"
   ]
  },
  {
   "cell_type": "code",
   "execution_count": 4,
   "id": "9f2210e0-7849-4f25-9604-13e800313503",
   "metadata": {},
   "outputs": [
    {
     "name": "stdout",
     "output_type": "stream",
     "text": [
      "By using List Comprehension Finding the squares of numbers\n"
     ]
    },
    {
     "data": {
      "text/plain": [
       "[1, 4, 9, 16, 25, 36, 49, 64, 81]"
      ]
     },
     "execution_count": 4,
     "metadata": {},
     "output_type": "execute_result"
    }
   ],
   "source": [
    "#                         ANSWER 2 (D)\n",
    "print(\"By using List Comprehension Finding the squares of numbers\")\n",
    "l = range(1,10)\n",
    "[i**2 for i in l]"
   ]
  },
  {
   "cell_type": "code",
   "execution_count": 5,
   "id": "fb14cd2f-d7b6-44f6-a264-2d82734fa89b",
   "metadata": {},
   "outputs": [
    {
     "name": "stdout",
     "output_type": "stream",
     "text": [
      "By using List Comprehension Finding the cubes of numbers\n"
     ]
    },
    {
     "data": {
      "text/plain": [
       "[1, 8, 27, 64, 125, 216, 343, 512, 729]"
      ]
     },
     "execution_count": 5,
     "metadata": {},
     "output_type": "execute_result"
    }
   ],
   "source": [
    "#                         ANSWER 2 (E)\n",
    "print(\"By using List Comprehension Finding the cubes of numbers\")\n",
    "l = range(1,10)\n",
    "[i**3 for i in l]"
   ]
  },
  {
   "cell_type": "code",
   "execution_count": 12,
   "id": "b2c883ce-377b-4bf2-b5b8-60773607465c",
   "metadata": {},
   "outputs": [
    {
     "name": "stdout",
     "output_type": "stream",
     "text": [
      "BY USING List Comprehension Check even number\n",
      "Even numbers in the list:  [2, 4, 6, 8, 10, 12, 14]\n",
      "BY USING Lambda function Check even number\n",
      "Even numbers in the list:  [2, 4, 6, 8, 10, 12, 14]\n"
     ]
    }
   ],
   "source": [
    "#                         ANSWER 2 (F)\n",
    "given_num = range(1,15)\n",
    "print(\"BY USING List Comprehension Check even number\")\n",
    "even_num = [i for i in given_num if i% 2  == 0]\n",
    "print(\"Even numbers in the list: \", even_num)\n",
    "print(\"BY USING Lambda function Check even number\")\n",
    "even_num1 = list(filter(lambda x: (x % 2 == 0), given_num))\n",
    "print(\"Even numbers in the list: \", even_num1)"
   ]
  },
  {
   "cell_type": "code",
   "execution_count": 13,
   "id": "8c86c93a-ff26-493e-8b91-f8df02f89f45",
   "metadata": {},
   "outputs": [
    {
     "name": "stdout",
     "output_type": "stream",
     "text": [
      "BY USING List Comprehension  filter out odd number\n",
      "Even numbers in the list:  [1, 3, 5, 7, 9]\n",
      "BY USING Lambda function filter out odd number\n",
      "Even numbers in the list:  [1, 3, 5, 7, 9]\n"
     ]
    }
   ],
   "source": [
    "#                         ANSWER 2 (G)\n",
    "given_list = [1,2,3,4,5,6,7,8,9,10]\n",
    "print(\"BY USING List Comprehension  filter out odd number\")\n",
    "odd_num = [i for i in given_list if i% 2  != 0]\n",
    "print(\"Even numbers in the list: \", odd_num)\n",
    "print(\"BY USING Lambda function filter out odd number\")\n",
    "odd_num1 = list(filter(lambda x: (x % 2 != 0), given_list))\n",
    "print(\"Even numbers in the list: \", odd_num1)"
   ]
  },
  {
   "cell_type": "code",
   "execution_count": 6,
   "id": "6aa42c7e-aacf-4290-9707-097b6c23e8c8",
   "metadata": {},
   "outputs": [
    {
     "name": "stdout",
     "output_type": "stream",
     "text": [
      "By using List Comprehension Sorting a list of integers\n",
      "The original list is : [1, 2, 3, 4, 5, 6, -1, -2, -3, -4, -5, 0]\n",
      "Result after performing operation : [-5, -4, -3, -2, -1, 0, 1, 2, 3, 4, 5, 6]\n"
     ]
    }
   ],
   "source": [
    "#                            ANSWER 2 (H)\n",
    "print(\"By using List Comprehension Sorting a list of integers\")\n",
    "l = [1,2,3,4,5,6,-1,-2,-3,-4,-5,0]\n",
    "print(\"The original list is : \" + str(l))\n",
    "positive_nums = [x for x in l if x >= 0]\n",
    "negative_nums = [x for x in l if x < 0]\n",
    "positive_nums.sort()\n",
    "negative_nums.sort()\n",
    "res =  negative_nums + positive_nums \n",
    "print(\"Result after performing operation : \" + str(res))"
   ]
  },
  {
   "cell_type": "code",
   "execution_count": null,
   "id": "29907f97-645e-4a0b-bc71-5805eebe3e33",
   "metadata": {},
   "outputs": [],
   "source": []
  }
 ],
 "metadata": {
  "kernelspec": {
   "display_name": "Python 3 (ipykernel)",
   "language": "python",
   "name": "python3"
  },
  "language_info": {
   "codemirror_mode": {
    "name": "ipython",
    "version": 3
   },
   "file_extension": ".py",
   "mimetype": "text/x-python",
   "name": "python",
   "nbconvert_exporter": "python",
   "pygments_lexer": "ipython3",
   "version": "3.10.8"
  }
 },
 "nbformat": 4,
 "nbformat_minor": 5
}
